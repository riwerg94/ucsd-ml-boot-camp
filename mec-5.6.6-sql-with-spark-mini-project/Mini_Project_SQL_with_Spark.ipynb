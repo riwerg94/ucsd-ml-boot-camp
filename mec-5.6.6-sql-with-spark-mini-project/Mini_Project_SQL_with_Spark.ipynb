{
 "cells": [
  {
   "cell_type": "markdown",
   "metadata": {
    "application/vnd.databricks.v1+cell": {
     "inputWidgets": {},
     "nuid": "362cc7fc-5016-4b6e-bc8f-a5c47905df28",
     "showTitle": false,
     "title": ""
    }
   },
   "source": [
    "## SQL at Scale with Spark SQL\n",
    "\n",
    "Welcome to the SQL mini project. For this project, you will use the Databricks Platform and work through a series of exercises using Spark SQL. The dataset size may not be too big but the intent here is to familiarize yourself with the Spark SQL interface which scales easily to huge datasets, without you having to worry about changing your SQL queries. \n",
    "\n",
    "The data you need is present in the mini-project folder in the form of three CSV files. This data will be imported in Databricks to create the following tables under the __`country_club`__ database.\n",
    "\n",
    "<br>\n",
    "1. The __`bookings`__ table,\n",
    "2. The __`facilities`__ table, and\n",
    "3. The __`members`__ table.\n",
    "\n",
    "You will be uploading these datasets shortly into the Databricks platform to understand how to create a database within minutes! Once the database and the tables are populated, you will be focusing on the mini-project questions.\n",
    "\n",
    "In the mini project, you'll be asked a series of questions. You can solve them using the databricks platform, but for the final deliverable,\n",
    "please download this notebook as an IPython notebook (__`File -> Export -> IPython Notebook`__) and upload it to your GitHub."
   ]
  },
  {
   "cell_type": "markdown",
   "metadata": {
    "application/vnd.databricks.v1+cell": {
     "inputWidgets": {},
     "nuid": "68e8d5e7-13aa-4d0d-a097-a057429298a5",
     "showTitle": false,
     "title": ""
    }
   },
   "source": [
    "### Creating the Database\n",
    "\n",
    "We will first create our database in which we will be creating our three tables of interest"
   ]
  },
  {
   "cell_type": "code",
   "execution_count": null,
   "metadata": {
    "application/vnd.databricks.v1+cell": {
     "inputWidgets": {},
     "nuid": "b4fc879b-901b-4805-89d3-1ec00d760875",
     "showTitle": false,
     "title": ""
    }
   },
   "outputs": [
    {
     "data": {
      "text/html": [
       "<style scoped>\n",
       "  .table-result-container {\n",
       "    max-height: 300px;\n",
       "    overflow: auto;\n",
       "  }\n",
       "  table, th, td {\n",
       "    border: 1px solid black;\n",
       "    border-collapse: collapse;\n",
       "  }\n",
       "  th, td {\n",
       "    padding: 5px;\n",
       "  }\n",
       "  th {\n",
       "    text-align: left;\n",
       "  }\n",
       "</style><div class='table-result-container'><table class='table-result'><thead style='background-color: white'><tr><th>databaseName</th></tr></thead><tbody><tr><td>country_club</td></tr><tr><td>default</td></tr></tbody></table></div>"
      ]
     },
     "metadata": {
      "application/vnd.databricks.v1+output": {
       "addedWidgets": {},
       "aggData": [],
       "aggError": "",
       "aggOverflow": false,
       "aggSchema": [],
       "aggSeriesLimitReached": false,
       "aggType": "",
       "arguments": {},
       "columnCustomDisplayInfos": {},
       "data": [
        [
         "country_club"
        ],
        [
         "default"
        ]
       ],
       "datasetInfos": [],
       "dbfsResultPath": null,
       "isJsonSchema": true,
       "metadata": {
        "isDbfsCommandResult": false
       },
       "overflow": false,
       "plotOptions": {
        "customPlotOptions": {},
        "displayType": "table",
        "pivotAggregation": null,
        "pivotColumns": [],
        "xColumns": [],
        "yColumns": []
       },
       "removedWidgets": [],
       "schema": [
        {
         "metadata": "{}",
         "name": "databaseName",
         "type": "\"string\""
        }
       ],
       "type": "table"
      }
     },
     "output_type": "display_data"
    }
   ],
   "source": [
    "%sql \n",
    "drop database if exists country_club cascade;\n",
    "create database country_club;\n",
    "show databases;"
   ]
  },
  {
   "cell_type": "markdown",
   "metadata": {
    "application/vnd.databricks.v1+cell": {
     "inputWidgets": {},
     "nuid": "15829645-2ad4-465e-a036-2e8d7e2369df",
     "showTitle": false,
     "title": ""
    }
   },
   "source": [
    "### Creating the Tables\n",
    "\n",
    "In this section, we will be creating the three tables of interest and populate them with the data from the CSV files already available to you. \n",
    "To get started, first upload the three CSV files to the DBFS as depicted in the following figure\n",
    "\n",
    "![](https://i.imgur.com/QcCruBr.png)\n",
    "\n",
    "\n",
    "Once you have done this, please remember to execute the following code to build the dataframes which will be saved as tables in our database"
   ]
  },
  {
   "cell_type": "code",
   "execution_count": null,
   "metadata": {
    "application/vnd.databricks.v1+cell": {
     "inputWidgets": {},
     "nuid": "f7d745e2-4e9e-4bf5-a059-b170b45ee3ff",
     "showTitle": false,
     "title": ""
    }
   },
   "outputs": [],
   "source": [
    "# File location and type\n",
    "file_location_bookings = \"dbfs:/FileStore/shared_uploads/rivverg@gmail.com/Bookings.csv\"\n",
    "file_location_facilities = \"dbfs:/FileStore/shared_uploads/rivverg@gmail.com/Facilities.csv\"\n",
    "file_location_members = \"dbfs:/FileStore/shared_uploads/rivverg@gmail.com/Members.csv\"\n",
    "\n",
    "file_type = \"csv\"\n",
    "\n",
    "# CSV options\n",
    "infer_schema = \"true\"\n",
    "first_row_is_header = \"true\"\n",
    "delimiter = \",\"\n",
    "\n",
    "# The applied options are for CSV files. For other file types, these will be ignored.\n",
    "bookings_df = (spark.read.format(file_type) \n",
    "                    .option(\"inferSchema\", infer_schema) \n",
    "                    .option(\"header\", first_row_is_header) \n",
    "                    .option(\"sep\", delimiter) \n",
    "                    .load(file_location_bookings))\n",
    "\n",
    "facilities_df = (spark.read.format(file_type) \n",
    "                      .option(\"inferSchema\", infer_schema) \n",
    "                      .option(\"header\", first_row_is_header) \n",
    "                      .option(\"sep\", delimiter) \n",
    "                      .load(file_location_facilities))\n",
    "\n",
    "members_df = (spark.read.format(file_type) \n",
    "                      .option(\"inferSchema\", infer_schema) \n",
    "                      .option(\"header\", first_row_is_header) \n",
    "                      .option(\"sep\", delimiter) \n",
    "                      .load(file_location_members))"
   ]
  },
  {
   "cell_type": "markdown",
   "metadata": {
    "application/vnd.databricks.v1+cell": {
     "inputWidgets": {},
     "nuid": "94d4fede-4f90-4b6e-951b-8f6673ad3f89",
     "showTitle": false,
     "title": ""
    }
   },
   "source": [
    "### Viewing the dataframe schemas\n",
    "\n",
    "We can take a look at the schemas of our potential tables to be written to our database soon"
   ]
  },
  {
   "cell_type": "code",
   "execution_count": null,
   "metadata": {
    "application/vnd.databricks.v1+cell": {
     "inputWidgets": {},
     "nuid": "ccf87916-bdb1-4e74-a949-5e20c2eb542f",
     "showTitle": false,
     "title": ""
    }
   },
   "outputs": [
    {
     "data": {
      "text/plain": [
       "Bookings Schema\n",
       "root\n",
       " |-- bookid: integer (nullable = true)\n",
       " |-- facid: integer (nullable = true)\n",
       " |-- memid: integer (nullable = true)\n",
       " |-- starttime: string (nullable = true)\n",
       " |-- slots: integer (nullable = true)\n",
       "\n",
       "Facilities Schema\n",
       "root\n",
       " |-- facid: integer (nullable = true)\n",
       " |-- name: string (nullable = true)\n",
       " |-- membercost: double (nullable = true)\n",
       " |-- guestcost: double (nullable = true)\n",
       " |-- initialoutlay: integer (nullable = true)\n",
       " |-- monthlymaintenance: integer (nullable = true)\n",
       "\n",
       "Members Schema\n",
       "root\n",
       " |-- memid: integer (nullable = true)\n",
       " |-- surname: string (nullable = true)\n",
       " |-- firstname: string (nullable = true)\n",
       " |-- address: string (nullable = true)\n",
       " |-- zipcode: integer (nullable = true)\n",
       " |-- telephone: string (nullable = true)\n",
       " |-- recommendedby: integer (nullable = true)\n",
       " |-- joindate: string (nullable = true)\n",
       "\n"
      ]
     },
     "metadata": {
      "application/vnd.databricks.v1+output": {
       "addedWidgets": {},
       "arguments": {},
       "data": "Bookings Schema\nroot\n |-- bookid: integer (nullable = true)\n |-- facid: integer (nullable = true)\n |-- memid: integer (nullable = true)\n |-- starttime: string (nullable = true)\n |-- slots: integer (nullable = true)\n\nFacilities Schema\nroot\n |-- facid: integer (nullable = true)\n |-- name: string (nullable = true)\n |-- membercost: double (nullable = true)\n |-- guestcost: double (nullable = true)\n |-- initialoutlay: integer (nullable = true)\n |-- monthlymaintenance: integer (nullable = true)\n\nMembers Schema\nroot\n |-- memid: integer (nullable = true)\n |-- surname: string (nullable = true)\n |-- firstname: string (nullable = true)\n |-- address: string (nullable = true)\n |-- zipcode: integer (nullable = true)\n |-- telephone: string (nullable = true)\n |-- recommendedby: integer (nullable = true)\n |-- joindate: string (nullable = true)\n\n",
       "datasetInfos": [],
       "metadata": {},
       "removedWidgets": [],
       "type": "ansi"
      }
     },
     "output_type": "display_data"
    }
   ],
   "source": [
    "print('Bookings Schema')\n",
    "bookings_df.printSchema()\n",
    "print('Facilities Schema')\n",
    "facilities_df.printSchema()\n",
    "print('Members Schema')\n",
    "members_df.printSchema()"
   ]
  },
  {
   "cell_type": "markdown",
   "metadata": {
    "application/vnd.databricks.v1+cell": {
     "inputWidgets": {},
     "nuid": "2d6b42fb-7213-428c-a66f-85ea3daf6a85",
     "showTitle": false,
     "title": ""
    }
   },
   "source": [
    "### Create permanent tables\n",
    "We will be creating three permanent tables here in our __`country_club`__ database as we discussed previously with the following code"
   ]
  },
  {
   "cell_type": "code",
   "execution_count": null,
   "metadata": {
    "application/vnd.databricks.v1+cell": {
     "inputWidgets": {},
     "nuid": "52f8e127-5400-4b05-b36e-2e8d08aade37",
     "showTitle": false,
     "title": ""
    }
   },
   "outputs": [],
   "source": [
    "permanent_table_name_bookings = \"country_club.Bookings\"\n",
    "dbutils.fs.rm(\"dbfs:/user/hive/warehouse/country_club.db/bookings\", True)\n",
    "bookings_df.write.format(\"parquet\").saveAsTable(permanent_table_name_bookings)\n",
    "\n",
    "permanent_table_name_facilities = \"country_club.Facilities\"\n",
    "dbutils.fs.rm(\"dbfs:/user/hive/warehouse/country_club.db/facilities\", True)\n",
    "facilities_df.write.format(\"parquet\").saveAsTable(permanent_table_name_facilities)\n",
    "\n",
    "permanent_table_name_members = \"country_club.Members\"\n",
    "dbutils.fs.rm(\"dbfs:/user/hive/warehouse/country_club.db/members\", True)\n",
    "members_df.write.format(\"parquet\").saveAsTable(permanent_table_name_members)"
   ]
  },
  {
   "cell_type": "markdown",
   "metadata": {
    "application/vnd.databricks.v1+cell": {
     "inputWidgets": {},
     "nuid": "f1425976-6450-400d-a1d6-d5005418035f",
     "showTitle": false,
     "title": ""
    }
   },
   "source": [
    "### Refresh tables and check them"
   ]
  },
  {
   "cell_type": "code",
   "execution_count": null,
   "metadata": {
    "application/vnd.databricks.v1+cell": {
     "inputWidgets": {},
     "nuid": "527d0ef1-b5c6-4964-8ebb-1626c0955e35",
     "showTitle": false,
     "title": ""
    }
   },
   "outputs": [
    {
     "data": {
      "text/html": [
       "<style scoped>\n",
       "  .table-result-container {\n",
       "    max-height: 300px;\n",
       "    overflow: auto;\n",
       "  }\n",
       "  table, th, td {\n",
       "    border: 1px solid black;\n",
       "    border-collapse: collapse;\n",
       "  }\n",
       "  th, td {\n",
       "    padding: 5px;\n",
       "  }\n",
       "  th {\n",
       "    text-align: left;\n",
       "  }\n",
       "</style><div class='table-result-container'><table class='table-result'><thead style='background-color: white'><tr><th>database</th><th>tableName</th><th>isTemporary</th></tr></thead><tbody><tr><td>country_club</td><td>bookings</td><td>false</td></tr><tr><td>country_club</td><td>facilities</td><td>false</td></tr><tr><td>country_club</td><td>members</td><td>false</td></tr></tbody></table></div>"
      ]
     },
     "metadata": {
      "application/vnd.databricks.v1+output": {
       "addedWidgets": {},
       "aggData": [],
       "aggError": "",
       "aggOverflow": false,
       "aggSchema": [],
       "aggSeriesLimitReached": false,
       "aggType": "",
       "arguments": {},
       "columnCustomDisplayInfos": {},
       "data": [
        [
         "country_club",
         "bookings",
         false
        ],
        [
         "country_club",
         "facilities",
         false
        ],
        [
         "country_club",
         "members",
         false
        ]
       ],
       "datasetInfos": [],
       "dbfsResultPath": null,
       "isJsonSchema": true,
       "metadata": {
        "isDbfsCommandResult": false
       },
       "overflow": false,
       "plotOptions": {
        "customPlotOptions": {},
        "displayType": "table",
        "pivotAggregation": null,
        "pivotColumns": [],
        "xColumns": [],
        "yColumns": []
       },
       "removedWidgets": [],
       "schema": [
        {
         "metadata": "{}",
         "name": "database",
         "type": "\"string\""
        },
        {
         "metadata": "{}",
         "name": "tableName",
         "type": "\"string\""
        },
        {
         "metadata": "{}",
         "name": "isTemporary",
         "type": "\"boolean\""
        }
       ],
       "type": "table"
      }
     },
     "output_type": "display_data"
    }
   ],
   "source": [
    "%sql\n",
    "use country_club;\n",
    "REFRESH table bookings;\n",
    "REFRESH table facilities;\n",
    "REFRESH table members;\n",
    "show tables;"
   ]
  },
  {
   "cell_type": "markdown",
   "metadata": {
    "application/vnd.databricks.v1+cell": {
     "inputWidgets": {},
     "nuid": "6a347e0b-c85b-4db8-b163-b212d12baa4e",
     "showTitle": false,
     "title": ""
    }
   },
   "source": [
    "### Test a sample SQL query\n",
    "\n",
    "__Note:__ You can use __`%sql`__ at the beginning of a cell and write SQL queries directly as seen in the following cell. Neat isn't it!"
   ]
  },
  {
   "cell_type": "code",
   "execution_count": null,
   "metadata": {
    "application/vnd.databricks.v1+cell": {
     "inputWidgets": {},
     "nuid": "3bcf56ad-d096-4ba3-94e0-c42db76852fc",
     "showTitle": false,
     "title": ""
    }
   },
   "outputs": [
    {
     "data": {
      "text/html": [
       "<style scoped>\n",
       "  .table-result-container {\n",
       "    max-height: 300px;\n",
       "    overflow: auto;\n",
       "  }\n",
       "  table, th, td {\n",
       "    border: 1px solid black;\n",
       "    border-collapse: collapse;\n",
       "  }\n",
       "  th, td {\n",
       "    padding: 5px;\n",
       "  }\n",
       "  th {\n",
       "    text-align: left;\n",
       "  }\n",
       "</style><div class='table-result-container'><table class='table-result'><thead style='background-color: white'><tr><th>bookid</th><th>facid</th><th>memid</th><th>starttime</th><th>slots</th></tr></thead><tbody><tr><td>0</td><td>3</td><td>1</td><td>2012-07-03 11:00:00</td><td>2</td></tr><tr><td>1</td><td>4</td><td>1</td><td>2012-07-03 08:00:00</td><td>2</td></tr><tr><td>2</td><td>6</td><td>0</td><td>2012-07-03 18:00:00</td><td>2</td></tr></tbody></table></div>"
      ]
     },
     "metadata": {
      "application/vnd.databricks.v1+output": {
       "addedWidgets": {},
       "aggData": [],
       "aggError": "",
       "aggOverflow": false,
       "aggSchema": [],
       "aggSeriesLimitReached": false,
       "aggType": "",
       "arguments": {},
       "columnCustomDisplayInfos": {},
       "data": [
        [
         0,
         3,
         1,
         "2012-07-03 11:00:00",
         2
        ],
        [
         1,
         4,
         1,
         "2012-07-03 08:00:00",
         2
        ],
        [
         2,
         6,
         0,
         "2012-07-03 18:00:00",
         2
        ]
       ],
       "datasetInfos": [],
       "dbfsResultPath": null,
       "isJsonSchema": true,
       "metadata": {
        "isDbfsCommandResult": false
       },
       "overflow": false,
       "plotOptions": {
        "customPlotOptions": {},
        "displayType": "table",
        "pivotAggregation": null,
        "pivotColumns": [],
        "xColumns": [],
        "yColumns": []
       },
       "removedWidgets": [],
       "schema": [
        {
         "metadata": "{}",
         "name": "bookid",
         "type": "\"integer\""
        },
        {
         "metadata": "{}",
         "name": "facid",
         "type": "\"integer\""
        },
        {
         "metadata": "{}",
         "name": "memid",
         "type": "\"integer\""
        },
        {
         "metadata": "{}",
         "name": "starttime",
         "type": "\"string\""
        },
        {
         "metadata": "{}",
         "name": "slots",
         "type": "\"integer\""
        }
       ],
       "type": "table"
      }
     },
     "output_type": "display_data"
    }
   ],
   "source": [
    "%sql\n",
    "select * from bookings limit 3"
   ]
  },
  {
   "cell_type": "markdown",
   "metadata": {
    "application/vnd.databricks.v1+cell": {
     "inputWidgets": {},
     "nuid": "da2dfe04-0730-4ddf-99cc-525ae10446f3",
     "showTitle": false,
     "title": ""
    }
   },
   "source": [
    "#### Q1: Some of the facilities charge a fee to members, but some do not. Please list the names of the facilities that do."
   ]
  },
  {
   "cell_type": "code",
   "execution_count": null,
   "metadata": {
    "application/vnd.databricks.v1+cell": {
     "inputWidgets": {},
     "nuid": "f841b63e-28c0-4d4d-8937-b78a52987650",
     "showTitle": false,
     "title": ""
    }
   },
   "outputs": [
    {
     "data": {
      "text/plain": [
       "+-------+------------------+---------------+------------------+------------------+------------------+------------------+\n",
       "|summary|             facid|           name|        membercost|         guestcost|     initialoutlay|monthlymaintenance|\n",
       "+-------+------------------+---------------+------------------+------------------+------------------+------------------+\n",
       "|  count|                 9|              9|                 9|                 9|                 9|                 9|\n",
       "|   mean|               4.0|           null|3.6999999999999997|28.666666666666668|4018.8888888888887|             730.0|\n",
       "| stddev|2.7386127875258306|           null| 4.108831950810352|30.156881470072467| 3393.038625054409| 1289.057310595615|\n",
       "|    min|                 0|Badminton Court|               0.0|               5.0|               320|                10|\n",
       "|    max|                 8| Tennis Court 2|               9.9|              80.0|             10000|              3000|\n",
       "+-------+------------------+---------------+------------------+------------------+------------------+------------------+\n",
       "\n"
      ]
     },
     "metadata": {
      "application/vnd.databricks.v1+output": {
       "addedWidgets": {},
       "arguments": {},
       "data": "+-------+------------------+---------------+------------------+------------------+------------------+------------------+\n|summary|             facid|           name|        membercost|         guestcost|     initialoutlay|monthlymaintenance|\n+-------+------------------+---------------+------------------+------------------+------------------+------------------+\n|  count|                 9|              9|                 9|                 9|                 9|                 9|\n|   mean|               4.0|           null|3.6999999999999997|28.666666666666668|4018.8888888888887|             730.0|\n| stddev|2.7386127875258306|           null| 4.108831950810352|30.156881470072467| 3393.038625054409| 1289.057310595615|\n|    min|                 0|Badminton Court|               0.0|               5.0|               320|                10|\n|    max|                 8| Tennis Court 2|               9.9|              80.0|             10000|              3000|\n+-------+------------------+---------------+------------------+------------------+------------------+------------------+\n\n",
       "datasetInfos": [],
       "metadata": {},
       "removedWidgets": [],
       "type": "ansi"
      }
     },
     "output_type": "display_data"
    }
   ],
   "source": [
    "facilities_df.describe().show()"
   ]
  },
  {
   "cell_type": "code",
   "execution_count": null,
   "metadata": {
    "application/vnd.databricks.v1+cell": {
     "inputWidgets": {},
     "nuid": "3543245a-6dee-476a-bdfe-2a47b4d790c0",
     "showTitle": false,
     "title": ""
    }
   },
   "outputs": [
    {
     "data": {
      "text/html": [
       "<style scoped>\n",
       "  .table-result-container {\n",
       "    max-height: 300px;\n",
       "    overflow: auto;\n",
       "  }\n",
       "  table, th, td {\n",
       "    border: 1px solid black;\n",
       "    border-collapse: collapse;\n",
       "  }\n",
       "  th, td {\n",
       "    padding: 5px;\n",
       "  }\n",
       "  th {\n",
       "    text-align: left;\n",
       "  }\n",
       "</style><div class='table-result-container'><table class='table-result'><thead style='background-color: white'><tr><th>name</th></tr></thead><tbody><tr><td>Tennis Court 1</td></tr><tr><td>Tennis Court 2</td></tr><tr><td>Massage Room 1</td></tr><tr><td>Massage Room 2</td></tr><tr><td>Squash Court</td></tr></tbody></table></div>"
      ]
     },
     "metadata": {
      "application/vnd.databricks.v1+output": {
       "addedWidgets": {},
       "aggData": [],
       "aggError": "",
       "aggOverflow": false,
       "aggSchema": [],
       "aggSeriesLimitReached": false,
       "aggType": "",
       "arguments": {},
       "columnCustomDisplayInfos": {},
       "data": [
        [
         "Tennis Court 1"
        ],
        [
         "Tennis Court 2"
        ],
        [
         "Massage Room 1"
        ],
        [
         "Massage Room 2"
        ],
        [
         "Squash Court"
        ]
       ],
       "datasetInfos": [],
       "dbfsResultPath": null,
       "isJsonSchema": true,
       "metadata": {
        "isDbfsCommandResult": false
       },
       "overflow": false,
       "plotOptions": {
        "customPlotOptions": {},
        "displayType": "table",
        "pivotAggregation": null,
        "pivotColumns": [],
        "xColumns": [],
        "yColumns": []
       },
       "removedWidgets": [],
       "schema": [
        {
         "metadata": "{}",
         "name": "name",
         "type": "\"string\""
        }
       ],
       "type": "table"
      }
     },
     "output_type": "display_data"
    }
   ],
   "source": [
    "%sql\n",
    "SELECT name FROM country_club.Facilities\n",
    "WHERE membercost > 0"
   ]
  },
  {
   "cell_type": "markdown",
   "metadata": {
    "application/vnd.databricks.v1+cell": {
     "inputWidgets": {},
     "nuid": "eae2e432-d9df-41fe-a4e8-2d4eb3f45d4b",
     "showTitle": false,
     "title": ""
    }
   },
   "source": [
    "####  Q2: How many facilities do not charge a fee to members?"
   ]
  },
  {
   "cell_type": "code",
   "execution_count": null,
   "metadata": {
    "application/vnd.databricks.v1+cell": {
     "inputWidgets": {},
     "nuid": "04e0e0d4-cea4-47e7-ad5f-76778c984acc",
     "showTitle": false,
     "title": ""
    }
   },
   "outputs": [
    {
     "data": {
      "text/html": [
       "<style scoped>\n",
       "  .table-result-container {\n",
       "    max-height: 300px;\n",
       "    overflow: auto;\n",
       "  }\n",
       "  table, th, td {\n",
       "    border: 1px solid black;\n",
       "    border-collapse: collapse;\n",
       "  }\n",
       "  th, td {\n",
       "    padding: 5px;\n",
       "  }\n",
       "  th {\n",
       "    text-align: left;\n",
       "  }\n",
       "</style><div class='table-result-container'><table class='table-result'><thead style='background-color: white'><tr><th>count(1)</th></tr></thead><tbody><tr><td>4</td></tr></tbody></table></div>"
      ]
     },
     "metadata": {
      "application/vnd.databricks.v1+output": {
       "addedWidgets": {},
       "aggData": [],
       "aggError": "",
       "aggOverflow": false,
       "aggSchema": [],
       "aggSeriesLimitReached": false,
       "aggType": "",
       "arguments": {},
       "columnCustomDisplayInfos": {},
       "data": [
        [
         4
        ]
       ],
       "datasetInfos": [],
       "dbfsResultPath": null,
       "isJsonSchema": true,
       "metadata": {
        "isDbfsCommandResult": false
       },
       "overflow": false,
       "plotOptions": {
        "customPlotOptions": {},
        "displayType": "table",
        "pivotAggregation": null,
        "pivotColumns": [],
        "xColumns": [],
        "yColumns": []
       },
       "removedWidgets": [],
       "schema": [
        {
         "metadata": "{}",
         "name": "count(1)",
         "type": "\"long\""
        }
       ],
       "type": "table"
      }
     },
     "output_type": "display_data"
    }
   ],
   "source": [
    "%sql\n",
    "SELECT COUNT(*) FROM country_club.Facilities\n",
    "WHERE membercost IN (NULL, 0)"
   ]
  },
  {
   "cell_type": "markdown",
   "metadata": {
    "application/vnd.databricks.v1+cell": {
     "inputWidgets": {},
     "nuid": "35a6ab53-c6eb-4714-a1da-1b90d95c345d",
     "showTitle": false,
     "title": ""
    }
   },
   "source": [
    "#### Q3: How can you produce a list of facilities that charge a fee to members, where the fee is less than 20% of the facility's monthly maintenance cost? \n",
    "#### Return the facid, facility name, member cost, and monthly maintenance of the facilities in question."
   ]
  },
  {
   "cell_type": "code",
   "execution_count": null,
   "metadata": {
    "application/vnd.databricks.v1+cell": {
     "inputWidgets": {},
     "nuid": "988290f2-974b-4b86-b5c8-5c0f2a1b27ec",
     "showTitle": false,
     "title": ""
    }
   },
   "outputs": [
    {
     "data": {
      "text/html": [
       "<style scoped>\n",
       "  .table-result-container {\n",
       "    max-height: 300px;\n",
       "    overflow: auto;\n",
       "  }\n",
       "  table, th, td {\n",
       "    border: 1px solid black;\n",
       "    border-collapse: collapse;\n",
       "  }\n",
       "  th, td {\n",
       "    padding: 5px;\n",
       "  }\n",
       "  th {\n",
       "    text-align: left;\n",
       "  }\n",
       "</style><div class='table-result-container'><table class='table-result'><thead style='background-color: white'><tr><th>facid</th><th>name</th><th>membercost</th><th>monthlymaintenance</th></tr></thead><tbody><tr><td>0</td><td>Tennis Court 1</td><td>5.0</td><td>200</td></tr><tr><td>1</td><td>Tennis Court 2</td><td>5.0</td><td>200</td></tr><tr><td>2</td><td>Badminton Court</td><td>0.0</td><td>50</td></tr><tr><td>3</td><td>Table Tennis</td><td>0.0</td><td>10</td></tr><tr><td>4</td><td>Massage Room 1</td><td>9.9</td><td>3000</td></tr><tr><td>5</td><td>Massage Room 2</td><td>9.9</td><td>3000</td></tr><tr><td>6</td><td>Squash Court</td><td>3.5</td><td>80</td></tr><tr><td>7</td><td>Snooker Table</td><td>0.0</td><td>15</td></tr><tr><td>8</td><td>Pool Table</td><td>0.0</td><td>15</td></tr></tbody></table></div>"
      ]
     },
     "metadata": {
      "application/vnd.databricks.v1+output": {
       "addedWidgets": {},
       "aggData": [],
       "aggError": "",
       "aggOverflow": false,
       "aggSchema": [],
       "aggSeriesLimitReached": false,
       "aggType": "",
       "arguments": {},
       "columnCustomDisplayInfos": {},
       "data": [
        [
         0,
         "Tennis Court 1",
         5,
         200
        ],
        [
         1,
         "Tennis Court 2",
         5,
         200
        ],
        [
         2,
         "Badminton Court",
         0,
         50
        ],
        [
         3,
         "Table Tennis",
         0,
         10
        ],
        [
         4,
         "Massage Room 1",
         9.9,
         3000
        ],
        [
         5,
         "Massage Room 2",
         9.9,
         3000
        ],
        [
         6,
         "Squash Court",
         3.5,
         80
        ],
        [
         7,
         "Snooker Table",
         0,
         15
        ],
        [
         8,
         "Pool Table",
         0,
         15
        ]
       ],
       "datasetInfos": [],
       "dbfsResultPath": null,
       "isJsonSchema": true,
       "metadata": {
        "isDbfsCommandResult": false
       },
       "overflow": false,
       "plotOptions": {
        "customPlotOptions": {},
        "displayType": "table",
        "pivotAggregation": null,
        "pivotColumns": [],
        "xColumns": [],
        "yColumns": []
       },
       "removedWidgets": [],
       "schema": [
        {
         "metadata": "{}",
         "name": "facid",
         "type": "\"integer\""
        },
        {
         "metadata": "{}",
         "name": "name",
         "type": "\"string\""
        },
        {
         "metadata": "{}",
         "name": "membercost",
         "type": "\"double\""
        },
        {
         "metadata": "{}",
         "name": "monthlymaintenance",
         "type": "\"integer\""
        }
       ],
       "type": "table"
      }
     },
     "output_type": "display_data"
    }
   ],
   "source": [
    "%sql\n",
    "SELECT facid, name, membercost, monthlymaintenance FROM country_club.Facilities\n",
    "WHERE membercost < monthlymaintenance * 0.2 "
   ]
  },
  {
   "cell_type": "markdown",
   "metadata": {
    "application/vnd.databricks.v1+cell": {
     "inputWidgets": {},
     "nuid": "88284c86-fd4a-474a-a217-af53a1f1600c",
     "showTitle": false,
     "title": ""
    }
   },
   "source": [
    "#### Q4: How can you retrieve the details of facilities with ID 1 and 5? Write the query without using the OR operator."
   ]
  },
  {
   "cell_type": "code",
   "execution_count": null,
   "metadata": {
    "application/vnd.databricks.v1+cell": {
     "inputWidgets": {},
     "nuid": "cefa7d0e-1678-4eb9-9a5f-b7fd6203501c",
     "showTitle": false,
     "title": ""
    }
   },
   "outputs": [
    {
     "data": {
      "text/html": [
       "<style scoped>\n",
       "  .table-result-container {\n",
       "    max-height: 300px;\n",
       "    overflow: auto;\n",
       "  }\n",
       "  table, th, td {\n",
       "    border: 1px solid black;\n",
       "    border-collapse: collapse;\n",
       "  }\n",
       "  th, td {\n",
       "    padding: 5px;\n",
       "  }\n",
       "  th {\n",
       "    text-align: left;\n",
       "  }\n",
       "</style><div class='table-result-container'><table class='table-result'><thead style='background-color: white'><tr><th>facid</th><th>name</th><th>membercost</th><th>guestcost</th><th>initialoutlay</th><th>monthlymaintenance</th></tr></thead><tbody><tr><td>1</td><td>Tennis Court 2</td><td>5.0</td><td>25.0</td><td>8000</td><td>200</td></tr><tr><td>5</td><td>Massage Room 2</td><td>9.9</td><td>80.0</td><td>4000</td><td>3000</td></tr></tbody></table></div>"
      ]
     },
     "metadata": {
      "application/vnd.databricks.v1+output": {
       "addedWidgets": {},
       "aggData": [],
       "aggError": "",
       "aggOverflow": false,
       "aggSchema": [],
       "aggSeriesLimitReached": false,
       "aggType": "",
       "arguments": {},
       "columnCustomDisplayInfos": {},
       "data": [
        [
         1,
         "Tennis Court 2",
         5,
         25,
         8000,
         200
        ],
        [
         5,
         "Massage Room 2",
         9.9,
         80,
         4000,
         3000
        ]
       ],
       "datasetInfos": [],
       "dbfsResultPath": null,
       "isJsonSchema": true,
       "metadata": {
        "isDbfsCommandResult": false
       },
       "overflow": false,
       "plotOptions": {
        "customPlotOptions": {},
        "displayType": "table",
        "pivotAggregation": null,
        "pivotColumns": [],
        "xColumns": [],
        "yColumns": []
       },
       "removedWidgets": [],
       "schema": [
        {
         "metadata": "{}",
         "name": "facid",
         "type": "\"integer\""
        },
        {
         "metadata": "{}",
         "name": "name",
         "type": "\"string\""
        },
        {
         "metadata": "{}",
         "name": "membercost",
         "type": "\"double\""
        },
        {
         "metadata": "{}",
         "name": "guestcost",
         "type": "\"double\""
        },
        {
         "metadata": "{}",
         "name": "initialoutlay",
         "type": "\"integer\""
        },
        {
         "metadata": "{}",
         "name": "monthlymaintenance",
         "type": "\"integer\""
        }
       ],
       "type": "table"
      }
     },
     "output_type": "display_data"
    }
   ],
   "source": [
    "%sql\n",
    "SELECT * FROM country_club.Facilities\n",
    "WHERE facid IN (1,5)"
   ]
  },
  {
   "cell_type": "markdown",
   "metadata": {
    "application/vnd.databricks.v1+cell": {
     "inputWidgets": {},
     "nuid": "b61e7a2a-085e-443b-ad5d-b8f32b6dd6c7",
     "showTitle": false,
     "title": ""
    }
   },
   "source": [
    "#### Q5: How can you produce a list of facilities, with each labelled as 'cheap' or 'expensive', depending on if their monthly maintenance cost is more than $100? \n",
    "#### Return the name and monthly maintenance of the facilities in question."
   ]
  },
  {
   "cell_type": "code",
   "execution_count": null,
   "metadata": {
    "application/vnd.databricks.v1+cell": {
     "inputWidgets": {},
     "nuid": "76f511db-9aa9-42aa-b96f-0715f722da18",
     "showTitle": false,
     "title": ""
    }
   },
   "outputs": [
    {
     "data": {
      "text/html": [
       "<style scoped>\n",
       "  .table-result-container {\n",
       "    max-height: 300px;\n",
       "    overflow: auto;\n",
       "  }\n",
       "  table, th, td {\n",
       "    border: 1px solid black;\n",
       "    border-collapse: collapse;\n",
       "  }\n",
       "  th, td {\n",
       "    padding: 5px;\n",
       "  }\n",
       "  th {\n",
       "    text-align: left;\n",
       "  }\n",
       "</style><div class='table-result-container'><table class='table-result'><thead style='background-color: white'><tr><th>facid</th><th>name</th><th>membercost</th><th>guestcost</th><th>initialoutlay</th><th>monthlymaintenance</th><th>value</th></tr></thead><tbody><tr><td>0</td><td>Tennis Court 1</td><td>5.0</td><td>25.0</td><td>10000</td><td>200</td><td>expensive</td></tr><tr><td>1</td><td>Tennis Court 2</td><td>5.0</td><td>25.0</td><td>8000</td><td>200</td><td>expensive</td></tr><tr><td>2</td><td>Badminton Court</td><td>0.0</td><td>15.5</td><td>4000</td><td>50</td><td>cheap</td></tr><tr><td>3</td><td>Table Tennis</td><td>0.0</td><td>5.0</td><td>320</td><td>10</td><td>cheap</td></tr><tr><td>4</td><td>Massage Room 1</td><td>9.9</td><td>80.0</td><td>4000</td><td>3000</td><td>expensive</td></tr><tr><td>5</td><td>Massage Room 2</td><td>9.9</td><td>80.0</td><td>4000</td><td>3000</td><td>expensive</td></tr><tr><td>6</td><td>Squash Court</td><td>3.5</td><td>17.5</td><td>5000</td><td>80</td><td>cheap</td></tr><tr><td>7</td><td>Snooker Table</td><td>0.0</td><td>5.0</td><td>450</td><td>15</td><td>cheap</td></tr><tr><td>8</td><td>Pool Table</td><td>0.0</td><td>5.0</td><td>400</td><td>15</td><td>cheap</td></tr></tbody></table></div>"
      ]
     },
     "metadata": {
      "application/vnd.databricks.v1+output": {
       "addedWidgets": {},
       "aggData": [],
       "aggError": "",
       "aggOverflow": false,
       "aggSchema": [],
       "aggSeriesLimitReached": false,
       "aggType": "",
       "arguments": {},
       "columnCustomDisplayInfos": {},
       "data": [
        [
         0,
         "Tennis Court 1",
         5,
         25,
         10000,
         200,
         "expensive"
        ],
        [
         1,
         "Tennis Court 2",
         5,
         25,
         8000,
         200,
         "expensive"
        ],
        [
         2,
         "Badminton Court",
         0,
         15.5,
         4000,
         50,
         "cheap"
        ],
        [
         3,
         "Table Tennis",
         0,
         5,
         320,
         10,
         "cheap"
        ],
        [
         4,
         "Massage Room 1",
         9.9,
         80,
         4000,
         3000,
         "expensive"
        ],
        [
         5,
         "Massage Room 2",
         9.9,
         80,
         4000,
         3000,
         "expensive"
        ],
        [
         6,
         "Squash Court",
         3.5,
         17.5,
         5000,
         80,
         "cheap"
        ],
        [
         7,
         "Snooker Table",
         0,
         5,
         450,
         15,
         "cheap"
        ],
        [
         8,
         "Pool Table",
         0,
         5,
         400,
         15,
         "cheap"
        ]
       ],
       "datasetInfos": [],
       "dbfsResultPath": null,
       "isJsonSchema": true,
       "metadata": {
        "isDbfsCommandResult": false
       },
       "overflow": false,
       "plotOptions": {
        "customPlotOptions": {},
        "displayType": "table",
        "pivotAggregation": null,
        "pivotColumns": [],
        "xColumns": [],
        "yColumns": []
       },
       "removedWidgets": [],
       "schema": [
        {
         "metadata": "{}",
         "name": "facid",
         "type": "\"integer\""
        },
        {
         "metadata": "{}",
         "name": "name",
         "type": "\"string\""
        },
        {
         "metadata": "{}",
         "name": "membercost",
         "type": "\"double\""
        },
        {
         "metadata": "{}",
         "name": "guestcost",
         "type": "\"double\""
        },
        {
         "metadata": "{}",
         "name": "initialoutlay",
         "type": "\"integer\""
        },
        {
         "metadata": "{}",
         "name": "monthlymaintenance",
         "type": "\"integer\""
        },
        {
         "metadata": "{}",
         "name": "value",
         "type": "\"string\""
        }
       ],
       "type": "table"
      }
     },
     "output_type": "display_data"
    }
   ],
   "source": [
    "%sql\n",
    "SELECT\n",
    "  *,\n",
    "  CASE\n",
    "    WHEN monthlymaintenance > 100 THEN 'expensive'\n",
    "    WHEN monthlymaintenance <= 100 THEN 'cheap'\n",
    "  END as value\n",
    "FROM country_club.Facilities"
   ]
  },
  {
   "cell_type": "markdown",
   "metadata": {
    "application/vnd.databricks.v1+cell": {
     "inputWidgets": {},
     "nuid": "9e796a21-4891-4206-a5e3-25c9fda5237b",
     "showTitle": false,
     "title": ""
    }
   },
   "source": [
    "#### Q6: You'd like to get the first and last name of the last member(s) who signed up. Do not use the LIMIT clause for your solution."
   ]
  },
  {
   "cell_type": "code",
   "execution_count": null,
   "metadata": {
    "application/vnd.databricks.v1+cell": {
     "inputWidgets": {},
     "nuid": "cca391ac-3e99-413e-85a2-989276ec008e",
     "showTitle": false,
     "title": ""
    }
   },
   "outputs": [
    {
     "data": {
      "text/html": [
       "<style scoped>\n",
       "  .table-result-container {\n",
       "    max-height: 300px;\n",
       "    overflow: auto;\n",
       "  }\n",
       "  table, th, td {\n",
       "    border: 1px solid black;\n",
       "    border-collapse: collapse;\n",
       "  }\n",
       "  th, td {\n",
       "    padding: 5px;\n",
       "  }\n",
       "  th {\n",
       "    text-align: left;\n",
       "  }\n",
       "</style><div class='table-result-container'><table class='table-result'><thead style='background-color: white'><tr><th>memid</th><th>surname</th><th>firstname</th><th>address</th><th>zipcode</th><th>telephone</th><th>recommendedby</th><th>joindate</th></tr></thead><tbody><tr><td>0</td><td>GUEST</td><td>GUEST</td><td>GUEST</td><td>0</td><td>(000) 000-0000</td><td>null</td><td>2012-07-01 00:00:00</td></tr><tr><td>1</td><td>Smith</td><td>Darren</td><td>8 Bloomsbury Close, Boston</td><td>4321</td><td>555-555-5555</td><td>null</td><td>2012-07-02 12:02:05</td></tr><tr><td>2</td><td>Smith</td><td>Tracy</td><td>8 Bloomsbury Close, New York</td><td>4321</td><td>555-555-5555</td><td>null</td><td>2012-07-02 12:08:23</td></tr><tr><td>3</td><td>Rownam</td><td>Tim</td><td>23 Highway Way, Boston</td><td>23423</td><td>(844) 693-0723</td><td>null</td><td>2012-07-03 09:32:15</td></tr><tr><td>4</td><td>Joplette</td><td>Janice</td><td>20 Crossing Road, New York</td><td>234</td><td>(833) 942-4710</td><td>1</td><td>2012-07-03 10:25:05</td></tr><tr><td>5</td><td>Butters</td><td>Gerald</td><td>1065 Huntingdon Avenue, Boston</td><td>56754</td><td>(844) 078-4130</td><td>1</td><td>2012-07-09 10:44:09</td></tr><tr><td>6</td><td>Tracy</td><td>Burton</td><td>3 Tunisia Drive, Boston</td><td>45678</td><td>(822) 354-9973</td><td>null</td><td>2012-07-15 08:52:55</td></tr><tr><td>7</td><td>Dare</td><td>Nancy</td><td>6 Hunting Lodge Way, Boston</td><td>10383</td><td>(833) 776-4001</td><td>4</td><td>2012-07-25 08:59:12</td></tr><tr><td>8</td><td>Boothe</td><td>Tim</td><td>3 Bloomsbury Close, Reading, 00234</td><td>234</td><td>(811) 433-2547</td><td>3</td><td>2012-07-25 16:02:35</td></tr><tr><td>9</td><td>Stibbons</td><td>Ponder</td><td>5 Dragons Way, Winchester</td><td>87630</td><td>(833) 160-3900</td><td>6</td><td>2012-07-25 17:09:05</td></tr><tr><td>10</td><td>Owen</td><td>Charles</td><td>52 Cheshire Grove, Winchester, 28563</td><td>28563</td><td>(855) 542-5251</td><td>1</td><td>2012-08-03 19:42:37</td></tr><tr><td>11</td><td>Jones</td><td>David</td><td>976 Gnats Close, Reading</td><td>33862</td><td>(844) 536-8036</td><td>4</td><td>2012-08-06 16:32:55</td></tr><tr><td>12</td><td>Baker</td><td>Anne</td><td>55 Powdery Street, Boston</td><td>80743</td><td>844-076-5141</td><td>9</td><td>2012-08-10 14:23:22</td></tr><tr><td>13</td><td>Farrell</td><td>Jemima</td><td>103 Firth Avenue, North Reading</td><td>57392</td><td>(855) 016-0163</td><td>null</td><td>2012-08-10 14:28:01</td></tr><tr><td>14</td><td>Smith</td><td>Jack</td><td>252 Binkington Way, Boston</td><td>69302</td><td>(822) 163-3254</td><td>1</td><td>2012-08-10 16:22:05</td></tr><tr><td>15</td><td>Bader</td><td>Florence</td><td>264 Ursula Drive, Westford</td><td>84923</td><td>(833) 499-3527</td><td>9</td><td>2012-08-10 17:52:03</td></tr><tr><td>16</td><td>Baker</td><td>Timothy</td><td>329 James Street, Reading</td><td>58393</td><td>833-941-0824</td><td>13</td><td>2012-08-15 10:34:25</td></tr><tr><td>17</td><td>Pinker</td><td>David</td><td>5 Impreza Road, Boston</td><td>65332</td><td>811 409-6734</td><td>13</td><td>2012-08-16 11:32:47</td></tr><tr><td>20</td><td>Genting</td><td>Matthew</td><td>4 Nunnington Place, Wingfield, Boston</td><td>52365</td><td>(811) 972-1377</td><td>5</td><td>2012-08-19 14:55:55</td></tr><tr><td>21</td><td>Mackenzie</td><td>Anna</td><td>64 Perkington Lane, Reading</td><td>64577</td><td>(822) 661-2898</td><td>1</td><td>2012-08-26 09:32:05</td></tr><tr><td>22</td><td>Coplin</td><td>Joan</td><td>85 Bard Street, Bloomington, Boston</td><td>43533</td><td>(822) 499-2232</td><td>16</td><td>2012-08-29 08:32:41</td></tr><tr><td>24</td><td>Sarwin</td><td>Ramnaresh</td><td>12 Bullington Lane, Boston</td><td>65464</td><td>(822) 413-1470</td><td>15</td><td>2012-09-01 08:44:42</td></tr><tr><td>26</td><td>Jones</td><td>Douglas</td><td>976 Gnats Close, Reading</td><td>11986</td><td>844 536-8036</td><td>11</td><td>2012-09-02 18:43:05</td></tr><tr><td>27</td><td>Rumney</td><td>Henrietta</td><td>3 Burkington Plaza, Boston</td><td>78533</td><td>(822) 989-8876</td><td>20</td><td>2012-09-05 08:42:35</td></tr><tr><td>28</td><td>Farrell</td><td>David</td><td>437 Granite Farm Road, Westford</td><td>43532</td><td>(855) 755-9876</td><td>null</td><td>2012-09-15 08:22:05</td></tr><tr><td>29</td><td>Worthington-Smyth</td><td>Henry</td><td>55 Jagbi Way, North Reading</td><td>97676</td><td>(855) 894-3758</td><td>2</td><td>2012-09-17 12:27:15</td></tr><tr><td>30</td><td>Purview</td><td>Millicent</td><td>641 Drudgery Close, Burnington, Boston</td><td>34232</td><td>(855) 941-9786</td><td>2</td><td>2012-09-18 19:04:01</td></tr><tr><td>33</td><td>Tupperware</td><td>Hyacinth</td><td>33 Cheerful Plaza, Drake Road, Westford</td><td>68666</td><td>(822) 665-5327</td><td>null</td><td>2012-09-18 19:32:05</td></tr><tr><td>35</td><td>Hunt</td><td>John</td><td>5 Bullington Lane, Boston</td><td>54333</td><td>(899) 720-6978</td><td>30</td><td>2012-09-19 11:32:45</td></tr><tr><td>36</td><td>Crumpet</td><td>Erica</td><td>Crimson Road, North Reading</td><td>75655</td><td>(811) 732-4816</td><td>2</td><td>2012-09-22 08:36:38</td></tr><tr><td>37</td><td>Smith</td><td>Darren</td><td>3 Funktown, Denzington, Boston</td><td>66796</td><td>(822) 577-3541</td><td>null</td><td>2012-09-26 18:08:45</td></tr></tbody></table></div>"
      ]
     },
     "metadata": {
      "application/vnd.databricks.v1+output": {
       "addedWidgets": {},
       "aggData": [],
       "aggError": "",
       "aggOverflow": false,
       "aggSchema": [],
       "aggSeriesLimitReached": false,
       "aggType": "",
       "arguments": {},
       "columnCustomDisplayInfos": {},
       "data": [
        [
         0,
         "GUEST",
         "GUEST",
         "GUEST",
         0,
         "(000) 000-0000",
         null,
         "2012-07-01 00:00:00"
        ],
        [
         1,
         "Smith",
         "Darren",
         "8 Bloomsbury Close, Boston",
         4321,
         "555-555-5555",
         null,
         "2012-07-02 12:02:05"
        ],
        [
         2,
         "Smith",
         "Tracy",
         "8 Bloomsbury Close, New York",
         4321,
         "555-555-5555",
         null,
         "2012-07-02 12:08:23"
        ],
        [
         3,
         "Rownam",
         "Tim",
         "23 Highway Way, Boston",
         23423,
         "(844) 693-0723",
         null,
         "2012-07-03 09:32:15"
        ],
        [
         4,
         "Joplette",
         "Janice",
         "20 Crossing Road, New York",
         234,
         "(833) 942-4710",
         1,
         "2012-07-03 10:25:05"
        ],
        [
         5,
         "Butters",
         "Gerald",
         "1065 Huntingdon Avenue, Boston",
         56754,
         "(844) 078-4130",
         1,
         "2012-07-09 10:44:09"
        ],
        [
         6,
         "Tracy",
         "Burton",
         "3 Tunisia Drive, Boston",
         45678,
         "(822) 354-9973",
         null,
         "2012-07-15 08:52:55"
        ],
        [
         7,
         "Dare",
         "Nancy",
         "6 Hunting Lodge Way, Boston",
         10383,
         "(833) 776-4001",
         4,
         "2012-07-25 08:59:12"
        ],
        [
         8,
         "Boothe",
         "Tim",
         "3 Bloomsbury Close, Reading, 00234",
         234,
         "(811) 433-2547",
         3,
         "2012-07-25 16:02:35"
        ],
        [
         9,
         "Stibbons",
         "Ponder",
         "5 Dragons Way, Winchester",
         87630,
         "(833) 160-3900",
         6,
         "2012-07-25 17:09:05"
        ],
        [
         10,
         "Owen",
         "Charles",
         "52 Cheshire Grove, Winchester, 28563",
         28563,
         "(855) 542-5251",
         1,
         "2012-08-03 19:42:37"
        ],
        [
         11,
         "Jones",
         "David",
         "976 Gnats Close, Reading",
         33862,
         "(844) 536-8036",
         4,
         "2012-08-06 16:32:55"
        ],
        [
         12,
         "Baker",
         "Anne",
         "55 Powdery Street, Boston",
         80743,
         "844-076-5141",
         9,
         "2012-08-10 14:23:22"
        ],
        [
         13,
         "Farrell",
         "Jemima",
         "103 Firth Avenue, North Reading",
         57392,
         "(855) 016-0163",
         null,
         "2012-08-10 14:28:01"
        ],
        [
         14,
         "Smith",
         "Jack",
         "252 Binkington Way, Boston",
         69302,
         "(822) 163-3254",
         1,
         "2012-08-10 16:22:05"
        ],
        [
         15,
         "Bader",
         "Florence",
         "264 Ursula Drive, Westford",
         84923,
         "(833) 499-3527",
         9,
         "2012-08-10 17:52:03"
        ],
        [
         16,
         "Baker",
         "Timothy",
         "329 James Street, Reading",
         58393,
         "833-941-0824",
         13,
         "2012-08-15 10:34:25"
        ],
        [
         17,
         "Pinker",
         "David",
         "5 Impreza Road, Boston",
         65332,
         "811 409-6734",
         13,
         "2012-08-16 11:32:47"
        ],
        [
         20,
         "Genting",
         "Matthew",
         "4 Nunnington Place, Wingfield, Boston",
         52365,
         "(811) 972-1377",
         5,
         "2012-08-19 14:55:55"
        ],
        [
         21,
         "Mackenzie",
         "Anna",
         "64 Perkington Lane, Reading",
         64577,
         "(822) 661-2898",
         1,
         "2012-08-26 09:32:05"
        ],
        [
         22,
         "Coplin",
         "Joan",
         "85 Bard Street, Bloomington, Boston",
         43533,
         "(822) 499-2232",
         16,
         "2012-08-29 08:32:41"
        ],
        [
         24,
         "Sarwin",
         "Ramnaresh",
         "12 Bullington Lane, Boston",
         65464,
         "(822) 413-1470",
         15,
         "2012-09-01 08:44:42"
        ],
        [
         26,
         "Jones",
         "Douglas",
         "976 Gnats Close, Reading",
         11986,
         "844 536-8036",
         11,
         "2012-09-02 18:43:05"
        ],
        [
         27,
         "Rumney",
         "Henrietta",
         "3 Burkington Plaza, Boston",
         78533,
         "(822) 989-8876",
         20,
         "2012-09-05 08:42:35"
        ],
        [
         28,
         "Farrell",
         "David",
         "437 Granite Farm Road, Westford",
         43532,
         "(855) 755-9876",
         null,
         "2012-09-15 08:22:05"
        ],
        [
         29,
         "Worthington-Smyth",
         "Henry",
         "55 Jagbi Way, North Reading",
         97676,
         "(855) 894-3758",
         2,
         "2012-09-17 12:27:15"
        ],
        [
         30,
         "Purview",
         "Millicent",
         "641 Drudgery Close, Burnington, Boston",
         34232,
         "(855) 941-9786",
         2,
         "2012-09-18 19:04:01"
        ],
        [
         33,
         "Tupperware",
         "Hyacinth",
         "33 Cheerful Plaza, Drake Road, Westford",
         68666,
         "(822) 665-5327",
         null,
         "2012-09-18 19:32:05"
        ],
        [
         35,
         "Hunt",
         "John",
         "5 Bullington Lane, Boston",
         54333,
         "(899) 720-6978",
         30,
         "2012-09-19 11:32:45"
        ],
        [
         36,
         "Crumpet",
         "Erica",
         "Crimson Road, North Reading",
         75655,
         "(811) 732-4816",
         2,
         "2012-09-22 08:36:38"
        ],
        [
         37,
         "Smith",
         "Darren",
         "3 Funktown, Denzington, Boston",
         66796,
         "(822) 577-3541",
         null,
         "2012-09-26 18:08:45"
        ]
       ],
       "datasetInfos": [],
       "dbfsResultPath": null,
       "isJsonSchema": true,
       "metadata": {
        "isDbfsCommandResult": false
       },
       "overflow": false,
       "plotOptions": {
        "customPlotOptions": {},
        "displayType": "table",
        "pivotAggregation": null,
        "pivotColumns": [],
        "xColumns": [],
        "yColumns": []
       },
       "removedWidgets": [],
       "schema": [
        {
         "metadata": "{}",
         "name": "memid",
         "type": "\"integer\""
        },
        {
         "metadata": "{}",
         "name": "surname",
         "type": "\"string\""
        },
        {
         "metadata": "{}",
         "name": "firstname",
         "type": "\"string\""
        },
        {
         "metadata": "{}",
         "name": "address",
         "type": "\"string\""
        },
        {
         "metadata": "{}",
         "name": "zipcode",
         "type": "\"integer\""
        },
        {
         "metadata": "{}",
         "name": "telephone",
         "type": "\"string\""
        },
        {
         "metadata": "{}",
         "name": "recommendedby",
         "type": "\"integer\""
        },
        {
         "metadata": "{}",
         "name": "joindate",
         "type": "\"string\""
        }
       ],
       "type": "table"
      }
     },
     "output_type": "display_data"
    }
   ],
   "source": [
    "%sql\n",
    "SELECT * FROM country_club.Members"
   ]
  },
  {
   "cell_type": "code",
   "execution_count": null,
   "metadata": {
    "application/vnd.databricks.v1+cell": {
     "inputWidgets": {},
     "nuid": "04623a80-0691-4b9b-98ab-82402fe6e954",
     "showTitle": false,
     "title": ""
    }
   },
   "outputs": [
    {
     "data": {
      "text/html": [
       "<style scoped>\n",
       "  .table-result-container {\n",
       "    max-height: 300px;\n",
       "    overflow: auto;\n",
       "  }\n",
       "  table, th, td {\n",
       "    border: 1px solid black;\n",
       "    border-collapse: collapse;\n",
       "  }\n",
       "  th, td {\n",
       "    padding: 5px;\n",
       "  }\n",
       "  th {\n",
       "    text-align: left;\n",
       "  }\n",
       "</style><div class='table-result-container'><table class='table-result'><thead style='background-color: white'><tr><th>firstname</th><th>surname</th></tr></thead><tbody><tr><td>Darren</td><td>Smith</td></tr></tbody></table></div>"
      ]
     },
     "metadata": {
      "application/vnd.databricks.v1+output": {
       "addedWidgets": {},
       "aggData": [],
       "aggError": "",
       "aggOverflow": false,
       "aggSchema": [],
       "aggSeriesLimitReached": false,
       "aggType": "",
       "arguments": {},
       "columnCustomDisplayInfos": {},
       "data": [
        [
         "Darren",
         "Smith"
        ]
       ],
       "datasetInfos": [],
       "dbfsResultPath": null,
       "isJsonSchema": true,
       "metadata": {
        "isDbfsCommandResult": false
       },
       "overflow": false,
       "plotOptions": {
        "customPlotOptions": {},
        "displayType": "table",
        "pivotAggregation": null,
        "pivotColumns": null,
        "xColumns": null,
        "yColumns": null
       },
       "removedWidgets": [],
       "schema": [
        {
         "metadata": "{}",
         "name": "firstname",
         "type": "\"string\""
        },
        {
         "metadata": "{}",
         "name": "surname",
         "type": "\"string\""
        }
       ],
       "type": "table"
      }
     },
     "output_type": "display_data"
    }
   ],
   "source": [
    "%sql\n",
    "SELECT firstname, surname FROM country_club.Members\n",
    "WHERE joindate = (SELECT MAX(joindate) from country_club.Members)\n"
   ]
  },
  {
   "cell_type": "markdown",
   "metadata": {
    "application/vnd.databricks.v1+cell": {
     "inputWidgets": {},
     "nuid": "9dec137b-48f1-4a1d-9301-da33665a70fe",
     "showTitle": false,
     "title": ""
    }
   },
   "source": [
    "####  Q7: How can you produce a list of all members who have used a tennis court?\n",
    "- Include in your output the name of the court, and the name of the member formatted as a single column. \n",
    "- Ensure no duplicate data\n",
    "- Also order by the member name."
   ]
  },
  {
   "cell_type": "code",
   "execution_count": null,
   "metadata": {
    "application/vnd.databricks.v1+cell": {
     "inputWidgets": {},
     "nuid": "c462c27b-8bed-4697-a6f9-94bb0506bf98",
     "showTitle": false,
     "title": ""
    }
   },
   "outputs": [
    {
     "data": {
      "text/html": [
       "<style scoped>\n",
       "  .table-result-container {\n",
       "    max-height: 300px;\n",
       "    overflow: auto;\n",
       "  }\n",
       "  table, th, td {\n",
       "    border: 1px solid black;\n",
       "    border-collapse: collapse;\n",
       "  }\n",
       "  th, td {\n",
       "    padding: 5px;\n",
       "  }\n",
       "  th {\n",
       "    text-align: left;\n",
       "  }\n",
       "</style><div class='table-result-container'><table class='table-result'><thead style='background-color: white'><tr><th>court_name</th><th>member_name</th><th>RN</th></tr></thead><tbody><tr><td>Table Tennis</td><td>Anna Mackenzie</td><td>1</td></tr><tr><td>Tennis Court 1</td><td>Anne Baker</td><td>1</td></tr><tr><td>Tennis Court 2</td><td>Burton Tracy</td><td>1</td></tr><tr><td>Tennis Court 1</td><td>Charles Owen</td><td>1</td></tr><tr><td>Table Tennis</td><td>Darren Smith</td><td>1</td></tr><tr><td>Tennis Court 1</td><td>David Farrell</td><td>1</td></tr><tr><td>Tennis Court 2</td><td>David Jones</td><td>1</td></tr><tr><td>Table Tennis</td><td>David Pinker</td><td>1</td></tr><tr><td>Tennis Court 1</td><td>Douglas Jones</td><td>1</td></tr><tr><td>Tennis Court 1</td><td>Erica Crumpet</td><td>1</td></tr><tr><td>Table Tennis</td><td>Florence Bader</td><td>1</td></tr><tr><td>Tennis Court 1</td><td>Gerald Butters</td><td>1</td></tr><tr><td>Tennis Court 2</td><td>Henrietta Rumney</td><td>1</td></tr><tr><td>Table Tennis</td><td>Henry Worthington-Smyth</td><td>1</td></tr><tr><td>Tennis Court 1</td><td>Jack Smith</td><td>1</td></tr><tr><td>Tennis Court 1</td><td>Janice Joplette</td><td>1</td></tr><tr><td>Table Tennis</td><td>Jemima Farrell</td><td>1</td></tr><tr><td>Table Tennis</td><td>Joan Coplin</td><td>1</td></tr><tr><td>Tennis Court 1</td><td>John Hunt</td><td>1</td></tr><tr><td>Table Tennis</td><td>Matthew Genting</td><td>1</td></tr><tr><td>Tennis Court 2</td><td>Millicent Purview</td><td>1</td></tr><tr><td>Tennis Court 2</td><td>Nancy Dare</td><td>1</td></tr><tr><td>Tennis Court 2</td><td>Ponder Stibbons</td><td>1</td></tr><tr><td>Tennis Court 2</td><td>Ramnaresh Sarwin</td><td>1</td></tr><tr><td>Tennis Court 2</td><td>Tim Boothe</td><td>1</td></tr><tr><td>Table Tennis</td><td>Tim Rownam</td><td>1</td></tr><tr><td>Tennis Court 2</td><td>Timothy Baker</td><td>1</td></tr><tr><td>Tennis Court 1</td><td>Tracy Smith</td><td>1</td></tr></tbody></table></div>"
      ]
     },
     "metadata": {
      "application/vnd.databricks.v1+output": {
       "addedWidgets": {},
       "aggData": [],
       "aggError": "",
       "aggOverflow": false,
       "aggSchema": [],
       "aggSeriesLimitReached": false,
       "aggType": "",
       "arguments": {},
       "columnCustomDisplayInfos": {},
       "data": [
        [
         "Table Tennis",
         "Anna Mackenzie",
         1
        ],
        [
         "Tennis Court 1",
         "Anne Baker",
         1
        ],
        [
         "Tennis Court 2",
         "Burton Tracy",
         1
        ],
        [
         "Tennis Court 1",
         "Charles Owen",
         1
        ],
        [
         "Table Tennis",
         "Darren Smith",
         1
        ],
        [
         "Tennis Court 1",
         "David Farrell",
         1
        ],
        [
         "Tennis Court 2",
         "David Jones",
         1
        ],
        [
         "Table Tennis",
         "David Pinker",
         1
        ],
        [
         "Tennis Court 1",
         "Douglas Jones",
         1
        ],
        [
         "Tennis Court 1",
         "Erica Crumpet",
         1
        ],
        [
         "Table Tennis",
         "Florence Bader",
         1
        ],
        [
         "Tennis Court 1",
         "Gerald Butters",
         1
        ],
        [
         "Tennis Court 2",
         "Henrietta Rumney",
         1
        ],
        [
         "Table Tennis",
         "Henry Worthington-Smyth",
         1
        ],
        [
         "Tennis Court 1",
         "Jack Smith",
         1
        ],
        [
         "Tennis Court 1",
         "Janice Joplette",
         1
        ],
        [
         "Table Tennis",
         "Jemima Farrell",
         1
        ],
        [
         "Table Tennis",
         "Joan Coplin",
         1
        ],
        [
         "Tennis Court 1",
         "John Hunt",
         1
        ],
        [
         "Table Tennis",
         "Matthew Genting",
         1
        ],
        [
         "Tennis Court 2",
         "Millicent Purview",
         1
        ],
        [
         "Tennis Court 2",
         "Nancy Dare",
         1
        ],
        [
         "Tennis Court 2",
         "Ponder Stibbons",
         1
        ],
        [
         "Tennis Court 2",
         "Ramnaresh Sarwin",
         1
        ],
        [
         "Tennis Court 2",
         "Tim Boothe",
         1
        ],
        [
         "Table Tennis",
         "Tim Rownam",
         1
        ],
        [
         "Tennis Court 2",
         "Timothy Baker",
         1
        ],
        [
         "Tennis Court 1",
         "Tracy Smith",
         1
        ]
       ],
       "datasetInfos": [],
       "dbfsResultPath": null,
       "isJsonSchema": true,
       "metadata": {
        "isDbfsCommandResult": false
       },
       "overflow": false,
       "plotOptions": {
        "customPlotOptions": {},
        "displayType": "table",
        "pivotAggregation": null,
        "pivotColumns": [],
        "xColumns": [],
        "yColumns": []
       },
       "removedWidgets": [],
       "schema": [
        {
         "metadata": "{}",
         "name": "court_name",
         "type": "\"string\""
        },
        {
         "metadata": "{}",
         "name": "member_name",
         "type": "\"string\""
        },
        {
         "metadata": "{}",
         "name": "RN",
         "type": "\"integer\""
        }
       ],
       "type": "table"
      }
     },
     "output_type": "display_data"
    }
   ],
   "source": [
    "%sql\n",
    "SELECT * FROM (SELECT f.name as court_name, CONCAT(m.firstname, ' ',m.surname) as member_name, ROW_NUMBER() OVER(PARTITION BY CONCAT(m.firstname, ' ',m.surname) ORDER BY CONCAT(m.firstname, ' ',m.surname)) as RN FROM country_club.Members as m\n",
    "INNER JOIN country_club.bookings as b\n",
    "ON m.memid = b.memid\n",
    "INNER JOIN country_club.facilities f\n",
    "ON f.facid = b.facid\n",
    "WHERE f.name LIKE \"%Tennis%\"\n",
    "AND m.firstname != \"GUEST\") as t\n",
    "WHERE t.RN = 1"
   ]
  },
  {
   "cell_type": "markdown",
   "metadata": {
    "application/vnd.databricks.v1+cell": {
     "inputWidgets": {},
     "nuid": "c26b155f-3c5a-4208-bf29-3b0882bfb3b2",
     "showTitle": false,
     "title": ""
    }
   },
   "source": [
    "#### Q8: How can you produce a list of bookings on the day of 2012-09-14 which will cost the member (or guest) more than $30? \n",
    "\n",
    "- Remember that guests have different costs to members (the listed costs are per half-hour 'slot')\n",
    "- The guest user's ID is always 0. \n",
    "\n",
    "#### Include in your output the name of the facility, the name of the member formatted as a single column, and the cost.\n",
    "\n",
    "- Order by descending cost, and do not use any subqueries."
   ]
  },
  {
   "cell_type": "code",
   "execution_count": null,
   "metadata": {
    "application/vnd.databricks.v1+cell": {
     "inputWidgets": {},
     "nuid": "078c3114-1406-4827-aa74-f101c7bf5baf",
     "showTitle": false,
     "title": ""
    }
   },
   "outputs": [
    {
     "data": {
      "text/html": [
       "<style scoped>\n",
       "  .table-result-container {\n",
       "    max-height: 300px;\n",
       "    overflow: auto;\n",
       "  }\n",
       "  table, th, td {\n",
       "    border: 1px solid black;\n",
       "    border-collapse: collapse;\n",
       "  }\n",
       "  th, td {\n",
       "    padding: 5px;\n",
       "  }\n",
       "  th {\n",
       "    text-align: left;\n",
       "  }\n",
       "</style><div class='table-result-container'><table class='table-result'><thead style='background-color: white'><tr><th>bookid</th><th>member_name</th><th>total_slots_cost</th></tr></thead><tbody><tr><td>2946</td><td>GUEST GUEST</td><td>320.0</td></tr><tr><td>2937</td><td>GUEST GUEST</td><td>160.0</td></tr><tr><td>2942</td><td>GUEST GUEST</td><td>160.0</td></tr><tr><td>2940</td><td>GUEST GUEST</td><td>160.0</td></tr><tr><td>2926</td><td>GUEST GUEST</td><td>150.0</td></tr><tr><td>2925</td><td>GUEST GUEST</td><td>75.0</td></tr><tr><td>2922</td><td>GUEST GUEST</td><td>75.0</td></tr><tr><td>2920</td><td>GUEST GUEST</td><td>75.0</td></tr><tr><td>2948</td><td>GUEST GUEST</td><td>70.0</td></tr><tr><td>2941</td><td>Jemima Farrell</td><td>39.6</td></tr><tr><td>2949</td><td>GUEST GUEST</td><td>35.0</td></tr><tr><td>2951</td><td>GUEST GUEST</td><td>35.0</td></tr></tbody></table></div>"
      ]
     },
     "metadata": {
      "application/vnd.databricks.v1+output": {
       "addedWidgets": {},
       "aggData": [],
       "aggError": "",
       "aggOverflow": false,
       "aggSchema": [],
       "aggSeriesLimitReached": false,
       "aggType": "",
       "arguments": {},
       "columnCustomDisplayInfos": {},
       "data": [
        [
         2946,
         "GUEST GUEST",
         320
        ],
        [
         2937,
         "GUEST GUEST",
         160
        ],
        [
         2942,
         "GUEST GUEST",
         160
        ],
        [
         2940,
         "GUEST GUEST",
         160
        ],
        [
         2926,
         "GUEST GUEST",
         150
        ],
        [
         2925,
         "GUEST GUEST",
         75
        ],
        [
         2922,
         "GUEST GUEST",
         75
        ],
        [
         2920,
         "GUEST GUEST",
         75
        ],
        [
         2948,
         "GUEST GUEST",
         70
        ],
        [
         2941,
         "Jemima Farrell",
         39.6
        ],
        [
         2949,
         "GUEST GUEST",
         35
        ],
        [
         2951,
         "GUEST GUEST",
         35
        ]
       ],
       "datasetInfos": [],
       "dbfsResultPath": null,
       "isJsonSchema": true,
       "metadata": {
        "isDbfsCommandResult": false
       },
       "overflow": false,
       "plotOptions": {
        "customPlotOptions": {},
        "displayType": "table",
        "pivotAggregation": null,
        "pivotColumns": [],
        "xColumns": [],
        "yColumns": []
       },
       "removedWidgets": [],
       "schema": [
        {
         "metadata": "{}",
         "name": "bookid",
         "type": "\"integer\""
        },
        {
         "metadata": "{}",
         "name": "member_name",
         "type": "\"string\""
        },
        {
         "metadata": "{}",
         "name": "total_slots_cost",
         "type": "\"double\""
        }
       ],
       "type": "table"
      }
     },
     "output_type": "display_data"
    }
   ],
   "source": [
    "%sql\n",
    " SELECT \n",
    "  b.bookid,\n",
    "  CONCAT(m.firstname, ' ',m.surname) as member_name,\n",
    "  CASE\n",
    "    WHEN m.memid = 0 THEN b.slots * f.guestcost\n",
    "    WHEN m.memid != 0 THEN b.slots * f.membercost\n",
    "  END AS total_slots_cost\n",
    "FROM country_club.Members as m\n",
    "INNER JOIN country_club.bookings as b\n",
    "ON m.memid = b.memid\n",
    "INNER JOIN country_club.facilities f\n",
    "ON f.facid = b.facid\n",
    "WHERE CAST(b.starttime as DATE) in ('2012-09-14')\n",
    "AND CASE\n",
    "      WHEN m.memid = 0 THEN b.slots * f.guestcost\n",
    "      WHEN m.memid != 0 THEN b.slots * f.membercost\n",
    "    END > 30\n",
    "ORDER by 3 DESC"
   ]
  },
  {
   "cell_type": "markdown",
   "metadata": {
    "application/vnd.databricks.v1+cell": {
     "inputWidgets": {},
     "nuid": "8df8dc57-ac0a-4f26-a52f-b1c872ce9a4d",
     "showTitle": false,
     "title": ""
    }
   },
   "source": [
    "#### Q9: This time, produce the same result as in Q8, but using a subquery."
   ]
  },
  {
   "cell_type": "code",
   "execution_count": null,
   "metadata": {
    "application/vnd.databricks.v1+cell": {
     "inputWidgets": {},
     "nuid": "b12a6e41-81f0-4396-8455-f69102f3e6cc",
     "showTitle": false,
     "title": ""
    }
   },
   "outputs": [
    {
     "data": {
      "text/html": [
       "<style scoped>\n",
       "  .table-result-container {\n",
       "    max-height: 300px;\n",
       "    overflow: auto;\n",
       "  }\n",
       "  table, th, td {\n",
       "    border: 1px solid black;\n",
       "    border-collapse: collapse;\n",
       "  }\n",
       "  th, td {\n",
       "    padding: 5px;\n",
       "  }\n",
       "  th {\n",
       "    text-align: left;\n",
       "  }\n",
       "</style><div class='table-result-container'><table class='table-result'><thead style='background-color: white'><tr><th>name</th><th>member_name</th><th>total_slots_cost</th></tr></thead><tbody><tr><td>Massage Room 2</td><td>GUEST GUEST</td><td>320.0</td></tr><tr><td>Massage Room 1</td><td>GUEST GUEST</td><td>160.0</td></tr><tr><td>Massage Room 1</td><td>GUEST GUEST</td><td>160.0</td></tr><tr><td>Massage Room 1</td><td>GUEST GUEST</td><td>160.0</td></tr><tr><td>Tennis Court 2</td><td>GUEST GUEST</td><td>150.0</td></tr><tr><td>Tennis Court 2</td><td>GUEST GUEST</td><td>75.0</td></tr><tr><td>Tennis Court 1</td><td>GUEST GUEST</td><td>75.0</td></tr><tr><td>Tennis Court 1</td><td>GUEST GUEST</td><td>75.0</td></tr><tr><td>Squash Court</td><td>GUEST GUEST</td><td>70.0</td></tr><tr><td>Massage Room 1</td><td>Jemima Farrell</td><td>39.6</td></tr><tr><td>Squash Court</td><td>GUEST GUEST</td><td>35.0</td></tr><tr><td>Squash Court</td><td>GUEST GUEST</td><td>35.0</td></tr></tbody></table></div>"
      ]
     },
     "metadata": {
      "application/vnd.databricks.v1+output": {
       "addedWidgets": {},
       "aggData": [],
       "aggError": "",
       "aggOverflow": false,
       "aggSchema": [],
       "aggSeriesLimitReached": false,
       "aggType": "",
       "arguments": {},
       "columnCustomDisplayInfos": {},
       "data": [
        [
         "Massage Room 2",
         "GUEST GUEST",
         320
        ],
        [
         "Massage Room 1",
         "GUEST GUEST",
         160
        ],
        [
         "Massage Room 1",
         "GUEST GUEST",
         160
        ],
        [
         "Massage Room 1",
         "GUEST GUEST",
         160
        ],
        [
         "Tennis Court 2",
         "GUEST GUEST",
         150
        ],
        [
         "Tennis Court 2",
         "GUEST GUEST",
         75
        ],
        [
         "Tennis Court 1",
         "GUEST GUEST",
         75
        ],
        [
         "Tennis Court 1",
         "GUEST GUEST",
         75
        ],
        [
         "Squash Court",
         "GUEST GUEST",
         70
        ],
        [
         "Massage Room 1",
         "Jemima Farrell",
         39.6
        ],
        [
         "Squash Court",
         "GUEST GUEST",
         35
        ],
        [
         "Squash Court",
         "GUEST GUEST",
         35
        ]
       ],
       "datasetInfos": [],
       "dbfsResultPath": null,
       "isJsonSchema": true,
       "metadata": {
        "isDbfsCommandResult": false
       },
       "overflow": false,
       "plotOptions": {
        "customPlotOptions": {},
        "displayType": "table",
        "pivotAggregation": null,
        "pivotColumns": [],
        "xColumns": [],
        "yColumns": []
       },
       "removedWidgets": [],
       "schema": [
        {
         "metadata": "{}",
         "name": "name",
         "type": "\"string\""
        },
        {
         "metadata": "{}",
         "name": "member_name",
         "type": "\"string\""
        },
        {
         "metadata": "{}",
         "name": "total_slots_cost",
         "type": "\"double\""
        }
       ],
       "type": "table"
      }
     },
     "output_type": "display_data"
    }
   ],
   "source": [
    "%sql\n",
    "SELECT * FROM (\n",
    "   SELECT \n",
    "    f.name,\n",
    "    CONCAT(m.firstname, ' ',m.surname) as member_name,\n",
    "    CASE\n",
    "      WHEN m.memid = 0 THEN b.slots * f.guestcost\n",
    "      WHEN m.memid != 0 THEN b.slots * f.membercost\n",
    "    END AS total_slots_cost\n",
    "  FROM country_club.Members as m\n",
    "  INNER JOIN country_club.bookings as b\n",
    "  ON m.memid = b.memid\n",
    "  INNER JOIN country_club.facilities f\n",
    "  ON f.facid = b.facid\n",
    "  WHERE CAST(b.starttime as DATE) in ('2012-09-14')\n",
    "  ) as m\n",
    "WHERE m.total_slots_cost > 30\n",
    "ORDER by m.total_slots_cost DESC"
   ]
  },
  {
   "cell_type": "markdown",
   "metadata": {
    "application/vnd.databricks.v1+cell": {
     "inputWidgets": {},
     "nuid": "d0845afa-6fd4-4d66-9318-9d65022bc0cd",
     "showTitle": false,
     "title": ""
    }
   },
   "source": [
    "#### Q10: Produce a list of facilities with a total revenue less than 1000.\n",
    "- The output should have facility name and total revenue, sorted by revenue. \n",
    "- Remember that there's a different cost for guests and members!"
   ]
  },
  {
   "cell_type": "code",
   "execution_count": null,
   "metadata": {
    "application/vnd.databricks.v1+cell": {
     "inputWidgets": {},
     "nuid": "2eb5f66c-f20d-4853-97b1-a87ee92e759e",
     "showTitle": false,
     "title": ""
    }
   },
   "outputs": [
    {
     "data": {
      "text/html": [
       "<style scoped>\n",
       "  .table-result-container {\n",
       "    max-height: 300px;\n",
       "    overflow: auto;\n",
       "  }\n",
       "  table, th, td {\n",
       "    border: 1px solid black;\n",
       "    border-collapse: collapse;\n",
       "  }\n",
       "  th, td {\n",
       "    padding: 5px;\n",
       "  }\n",
       "  th {\n",
       "    text-align: left;\n",
       "  }\n",
       "</style><div class='table-result-container'><table class='table-result'><thead style='background-color: white'><tr><th>name</th><th>revenue</th></tr></thead><tbody><tr><td>Pool Table</td><td>270.0</td></tr><tr><td>Snooker Table</td><td>240.0</td></tr><tr><td>Table Tennis</td><td>180.0</td></tr></tbody></table></div>"
      ]
     },
     "metadata": {
      "application/vnd.databricks.v1+output": {
       "addedWidgets": {},
       "aggData": [],
       "aggError": "",
       "aggOverflow": false,
       "aggSchema": [],
       "aggSeriesLimitReached": false,
       "aggType": "",
       "arguments": {},
       "columnCustomDisplayInfos": {},
       "data": [
        [
         "Pool Table",
         270
        ],
        [
         "Snooker Table",
         240
        ],
        [
         "Table Tennis",
         180
        ]
       ],
       "datasetInfos": [],
       "dbfsResultPath": null,
       "isJsonSchema": true,
       "metadata": {
        "isDbfsCommandResult": false
       },
       "overflow": false,
       "plotOptions": {
        "customPlotOptions": {},
        "displayType": "table",
        "pivotAggregation": null,
        "pivotColumns": [],
        "xColumns": [],
        "yColumns": []
       },
       "removedWidgets": [],
       "schema": [
        {
         "metadata": "{}",
         "name": "name",
         "type": "\"string\""
        },
        {
         "metadata": "{}",
         "name": "revenue",
         "type": "\"double\""
        }
       ],
       "type": "table"
      }
     },
     "output_type": "display_data"
    }
   ],
   "source": [
    "%sql\n",
    "with cte as (\n",
    "  SELECT \n",
    "    f.facid,\n",
    "    CONCAT(m.firstname, ' ',m.surname) as member_name,\n",
    "    CASE\n",
    "      WHEN m.memid = 0 THEN b.slots * f.guestcost\n",
    "      WHEN m.memid != 0 THEN b.slots * f.membercost\n",
    "    END AS total_bookings_cost\n",
    "  FROM country_club.Members as m\n",
    "  INNER JOIN country_club.bookings as b\n",
    "  ON m.memid = b.memid\n",
    "  INNER JOIN country_club.facilities f\n",
    "  ON f.facid = b.facid\n",
    ")\n",
    "select f.name, sum(c.total_bookings_cost) as revenue from cte as c\n",
    "inner join country_club.facilities f\n",
    "on f.facid = c.facid\n",
    "group by f.name\n",
    "having revenue < 1000\n",
    "order by revenue DESC\n"
   ]
  },
  {
   "cell_type": "code",
   "execution_count": null,
   "metadata": {
    "application/vnd.databricks.v1+cell": {
     "inputWidgets": {},
     "nuid": "76ac44ca-4c0b-4be5-bdac-da8765095c7e",
     "showTitle": false,
     "title": ""
    }
   },
   "outputs": [
    {
     "data": {
      "text/html": [
       "<style scoped>\n",
       "  .ansiout {\n",
       "    display: block;\n",
       "    unicode-bidi: embed;\n",
       "    white-space: pre-wrap;\n",
       "    word-wrap: break-word;\n",
       "    word-break: break-all;\n",
       "    font-family: \"Source Code Pro\", \"Menlo\", monospace;;\n",
       "    font-size: 13px;\n",
       "    color: #555;\n",
       "    margin-left: 4px;\n",
       "    line-height: 19px;\n",
       "  }\n",
       "</style>"
      ]
     },
     "metadata": {
      "application/vnd.databricks.v1+output": {
       "arguments": {},
       "data": "",
       "errorSummary": "",
       "errorTraceType": null,
       "metadata": {},
       "type": "ipynbError"
      }
     },
     "output_type": "display_data"
    }
   ],
   "source": []
  }
 ],
 "metadata": {
  "application/vnd.databricks.v1+notebook": {
   "dashboards": [],
   "language": "python",
   "notebookMetadata": {
    "pythonIndentUnit": 2
   },
   "notebookName": "Mini_Project_SQL_with_Spark",
   "notebookOrigID": 1903386423255460,
   "widgets": {}
  },
  "kernelspec": {
   "display_name": "Python 3 (ipykernel)",
   "language": "python",
   "name": "python3"
  },
  "language_info": {
   "codemirror_mode": {
    "name": "ipython",
    "version": 3
   },
   "file_extension": ".py",
   "mimetype": "text/x-python",
   "name": "python",
   "nbconvert_exporter": "python",
   "pygments_lexer": "ipython3",
   "version": "3.7.11"
  },
  "name": "Mini_Project_SQL_with_Spark",
  "notebookId": 1931807081501742
 },
 "nbformat": 4,
 "nbformat_minor": 4
}
